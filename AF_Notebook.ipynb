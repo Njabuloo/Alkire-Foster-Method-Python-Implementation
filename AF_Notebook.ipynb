{
 "cells": [
  {
   "cell_type": "code",
   "execution_count": 1,
   "metadata": {},
   "outputs": [],
   "source": [
    "import pandas as pd\n",
    "import numpy as np\n",
    "import matplotlib.pyplot as plt\n",
    "from typing import List\n",
    "%matplotlib inline"
   ]
  },
  {
   "cell_type": "code",
   "execution_count": 2,
   "metadata": {},
   "outputs": [],
   "source": [
    "# step 1 - read in the files\n",
    "dimensions_matrix = pd.read_excel('./test_data/Dimensions_Matrix.xlsx')\n",
    "cutoff_matrix = pd.read_excel('./test_data/cutoff_data.xlsx')\n",
    "weigths_matrix = pd.read_excel('./test_data/Weights.xlsx')\n",
    "demographics_matrix = pd.read_excel('./test_data/Demographics.xlsx')"
   ]
  },
  {
   "cell_type": "code",
   "execution_count": 3,
   "metadata": {},
   "outputs": [],
   "source": [
    "def get_deprivation_matrix(dimensions_matrix: pd.DataFrame, cutoff_matrix: pd.DataFrame) -> pd.DataFrame:\n",
    "    \"\"\"\n",
    "    Calculate the deprivation matrix (g0) based on dimensions and cutoff values.\n",
    "\n",
    "    Args:\n",
    "        dimensions_matrix (pd.DataFrame): DataFrame containing dimensions data.\n",
    "        cutoff_matrix (pd.DataFrame): DataFrame containing cutoff values.\n",
    "\n",
    "    Returns:\n",
    "        pd.DataFrame: Deprivation matrix (g0).\n",
    "    \"\"\"\n",
    "    # Get column names for the dataframes\n",
    "    dimensions_column_names: List[str] = dimensions_matrix.columns\n",
    "\n",
    "    # Create a copy of the dimensions matrix as the deprivation matrix\n",
    "    deprivation_matrix: pd.DataFrame = dimensions_matrix.copy()\n",
    "\n",
    "    # Generate values for the deprivation matrix based on dimensions and cutoff values\n",
    "    for index, col_name in enumerate(dimensions_column_names):\n",
    "        cutoff_value = cutoff_matrix.at[index, 'Cutoff']\n",
    "        deprivation_matrix[col_name] = deprivation_matrix[col_name].apply(lambda value: 1 if value == cutoff_value else 0)\n",
    "\n",
    "    return deprivation_matrix"
   ]
  },
  {
   "cell_type": "code",
   "execution_count": 4,
   "metadata": {},
   "outputs": [],
   "source": [
    "def calculate_weighted_deprivation_matrix(deprivation_matrix: pd.DataFrame, weights_matrix: pd.DataFrame) -> pd.DataFrame:\n",
    "    \"\"\"\n",
    "    Calculate the weighted deprivation matrix based on the deprivation matrix and weights.\n",
    "\n",
    "    Args:\n",
    "        deprivation_matrix (pd.DataFrame): Deprivation matrix (g0).\n",
    "        weights_matrix (pd.DataFrame): DataFrame containing weights.\n",
    "\n",
    "    Returns:\n",
    "        pd.DataFrame: Weighted deprivation matrix.\n",
    "    \"\"\"\n",
    "    # Iterate through columns of the deprivation matrix\n",
    "    for index, col_name in enumerate(deprivation_matrix.columns):\n",
    "        # Get the weight corresponding to the column\n",
    "        weight = weights_matrix.at[index, 'Weight']\n",
    "        \n",
    "        # Multiply the values in the column by the weight\n",
    "        deprivation_matrix[col_name] = deprivation_matrix[col_name] * weight\n",
    "    \n",
    "    return deprivation_matrix"
   ]
  },
  {
   "cell_type": "code",
   "execution_count": 5,
   "metadata": {},
   "outputs": [],
   "source": [
    "\n",
    "def calculate_deprevation_scores(weighted_deprivation_matrix: pd.DataFrame) -> pd.DataFrame:\n",
    "    \"\"\"\n",
    "    Calculate deprivation scores based on the weighted deprivation matrix.\n",
    "\n",
    "    Args:\n",
    "        weighted_deprivation_matrix (pd.DataFrame): DataFrame containing weighted deprivation values.\n",
    "\n",
    "    Returns:\n",
    "        pd.DataFrame: DataFrame containing deprivation scores.\n",
    "    \"\"\"\n",
    "    # Determine the number of rows in the weighted deprivation matrix\n",
    "    number_of_rows = len(weighted_deprivation_matrix)\n",
    "\n",
    "    # Initialize a DataFrame to store the deprivation scores\n",
    "    data = {'Scores': [0] * number_of_rows}\n",
    "    deprevation_scores = pd.DataFrame(data)\n",
    "\n",
    "    # Calculate the deprivation score for each row in the weighted deprivation matrix\n",
    "    for index in range(number_of_rows):\n",
    "        deprevation_score = weighted_deprivation_matrix.iloc[index].sum()\n",
    "        \n",
    "        # Update the 'Scores' column in the deprivation scores DataFrame\n",
    "        deprevation_scores.at[index, 'Scores'] = deprevation_score\n",
    "\n",
    "    return deprevation_scores"
   ]
  },
  {
   "cell_type": "code",
   "execution_count": 6,
   "metadata": {},
   "outputs": [],
   "source": [
    "\n",
    "def get_censored_vector(deprevation_scores_vector: pd.DataFrame, cutoff_score: int) -> pd.DataFrame:\n",
    "    \"\"\"\n",
    "    Generate a censored vector based on deprivation scores and a cutoff score.\n",
    "\n",
    "    Args:\n",
    "        deprevation_scores_vector (pd.DataFrame): DataFrame containing deprivation scores.\n",
    "        cutoff_score (int): Cutoff score used to censor deprivation scores.\n",
    "\n",
    "    Returns:\n",
    "        pd.DataFrame: Censored vector of deprivation scores.\n",
    "    \"\"\"\n",
    "    # Create a copy of the deprivation scores vector\n",
    "    censored_vector = deprevation_scores_vector.copy()\n",
    "\n",
    "    # Iterate through the rows of the vector and apply censoring\n",
    "    for index in range(len(censored_vector)):\n",
    "        deprivation_score = censored_vector.at[index, 'Scores']\n",
    "\n",
    "        # Apply censoring: If the deprivation score is below the cutoff, set it to 0\n",
    "        censored_vector.at[index, 'Scores'] = deprivation_score if deprivation_score >= cutoff_score else 0\n",
    "\n",
    "    return censored_vector"
   ]
  },
  {
   "cell_type": "code",
   "execution_count": 7,
   "metadata": {},
   "outputs": [],
   "source": [
    "\n",
    "def get_head_count_ratio(censored_vector: pd.DataFrame) -> float:\n",
    "    \"\"\"\n",
    "    Calculate the headcount ratio (H) based on a censored vector.\n",
    "\n",
    "    The headcount ratio (H) represents the percentage of the population with a positive score in the censored vector.\n",
    "\n",
    "    Args:\n",
    "        censored_vector (pd.DataFrame): DataFrame containing censored deprivation scores.\n",
    "\n",
    "    Returns:\n",
    "        float: The headcount ratio as a percentage.\n",
    "    \"\"\"\n",
    "    # Calculate the count of individuals with a positive score\n",
    "    positive_count = len(censored_vector.loc[censored_vector[\"Scores\"] > 0])\n",
    "\n",
    "    # Calculate the total count of individuals in the censored vector\n",
    "    total_count = len(censored_vector)\n",
    "\n",
    "    # Calculate the headcount ratio as a percentage\n",
    "    headcount_ratio = 100 * (positive_count / total_count)\n",
    "\n",
    "    return headcount_ratio"
   ]
  },
  {
   "cell_type": "code",
   "execution_count": 8,
   "metadata": {},
   "outputs": [],
   "source": [
    "def get_average_deprivation_score(censored_vector: pd.DataFrame, number_of_dimensions: int) -> float:\n",
    "    \"\"\"\n",
    "    Calculate the average deprivation score for the Alkire-Foster method.\n",
    "\n",
    "    The average deprivation score is the weighted average of deprivation scores for individuals classified as poor.\n",
    "\n",
    "    Args:\n",
    "        censored_vector (pd.DataFrame): DataFrame containing censored deprivation scores.\n",
    "        number_of_dimensions (int): Total number of dimensions or indicators.\n",
    "\n",
    "    Returns:\n",
    "        float: The average deprivation score as a percentage.\n",
    "    \"\"\"\n",
    "    # Calculate the sum of deprivation scores for individuals classified as poor\n",
    "    scores_sum = censored_vector['Scores'].sum()\n",
    "\n",
    "    # Calculate the total count of poor individuals\n",
    "    total_poor_people = len(censored_vector.loc[censored_vector[\"Scores\"] > 0])\n",
    "\n",
    "    # Calculate the average deprivation score\n",
    "    average_deprivation_score = (scores_sum / number_of_dimensions) / total_poor_people\n",
    "\n",
    "    # Convert the average deprivation score to a percentage\n",
    "    average_deprivation_score_percentage = 100 * average_deprivation_score\n",
    "\n",
    "    return average_deprivation_score_percentage.round(2)"
   ]
  },
  {
   "cell_type": "code",
   "execution_count": 9,
   "metadata": {},
   "outputs": [],
   "source": [
    "def get_adjusted_head_count_ratio(average_deprivation_score: float, headcount_ratio: float) -> float:\n",
    "    \"\"\"\n",
    "    Calculate the adjusted headcount ratio for the Alkire-Foster method.\n",
    "\n",
    "    The adjusted headcount ratio represents the product of the headcount ratio and the average deprivation score.\n",
    "\n",
    "    Args:\n",
    "        average_deprivation_score (float): The average deprivation score as a percentage.\n",
    "        headcount_ratio (float): The headcount ratio as a percentage.\n",
    "\n",
    "    Returns:\n",
    "        float: The adjusted headcount ratio as a percentage.\n",
    "    \"\"\"\n",
    "    # Convert percentages to ratios (divide by 100)\n",
    "    average_deprivation_score /= 100\n",
    "    headcount_ratio /= 100\n",
    "\n",
    "    # Calculate the adjusted headcount ratio\n",
    "    adjusted_headcount_ratio = 100 * headcount_ratio * average_deprivation_score\n",
    "\n",
    "    return adjusted_headcount_ratio.round(2)\n"
   ]
  },
  {
   "cell_type": "code",
   "execution_count": 10,
   "metadata": {},
   "outputs": [],
   "source": [
    "def calculate_subgroup_data(demographics_matrix: pd.DataFrame, censored: pd.DataFrame) -> list:\n",
    "    \"\"\"\n",
    "    Calculate subgroup data based on the demographics matrix and censored data.\n",
    "\n",
    "    Args:\n",
    "        demographics_matrix (pd.DataFrame): DataFrame containing demographic information.\n",
    "        censored (pd.DataFrame): DataFrame containing censored data.\n",
    "\n",
    "    Returns:\n",
    "        list: List of subgroups along with their corresponding data.\n",
    "    \"\"\"\n",
    "    sub_groups_data = []\n",
    "\n",
    "    for col in demographics_matrix.columns:\n",
    "        sub_group_name = col\n",
    "        sub_group_data = {}\n",
    "        total_censored = len(censored[censored['Scores'] > 0])\n",
    "\n",
    "        for value in demographics_matrix[col].unique():\n",
    "            subgroup_censored_count = len(demographics_matrix[(demographics_matrix[col] == value) & (censored['Scores'] > 0)])\n",
    "            percentage = subgroup_censored_count / total_censored\n",
    "            sub_group_data[value] = percentage\n",
    "\n",
    "        sub_groups_data.append([sub_group_name, sub_group_data])\n",
    "\n",
    "    return sub_groups_data"
   ]
  },
  {
   "cell_type": "code",
   "execution_count": 16,
   "metadata": {},
   "outputs": [
    {
     "name": "stdout",
     "output_type": "stream",
     "text": [
      "64.47\n",
      "34.55\n",
      "22.27\n",
      "['Faculty', {'EBE': 0.18625954198473282, 'Sci': 0.13587786259541984, 'HS': 0.10534351145038168, 'Hu': 0.3251908396946565, 'CLM': 0.24732824427480915}]\n",
      "['Gender', {'Male': 0.3099236641221374, 'Other': 0.007633587786259542, 'Female': 0.6824427480916031}]\n",
      "['Race', {'Indian': 0.07633587786259542, 'Coloured': 0.03969465648854962, 'White': 0.10076335877862595, 'Black': 0.7801526717557252, 'Asian': 0.0030534351145038168}]\n"
     ]
    }
   ],
   "source": [
    "df = get_deprivation_matrix(dimensions_matrix, cutoff_matrix)\n",
    "df = calculate_weighted_deprivation_matrix(df, weigths_matrix)\n",
    "scores = calculate_deprevation_scores(df)\n",
    "censored = get_censored_vector(scores,2)\n",
    "print(f\"{get_head_count_ratio(censored):.2F}\")\n",
    "print(get_average_deprivation_score(censored, 9))\n",
    "print(get_adjusted_head_count_ratio(get_average_deprivation_score(censored, 9), get_head_count_ratio(censored)))\n",
    "for row in calculate_subgroup_data(demographics_matrix, censored):\n",
    "    print(row)\n"
   ]
  },
  {
   "cell_type": "code",
   "execution_count": 15,
   "metadata": {},
   "outputs": [
    {
     "name": "stdout",
     "output_type": "stream",
     "text": [
      "['Faculty', {'EBE': 0.12007874015748031, 'Sci': 0.08759842519685039, 'HS': 0.06791338582677166, 'Hu': 0.20964566929133857, 'CLM': 0.1594488188976378}]\n",
      "['Gender', {'Male': 0.19980314960629922, 'Other': 0.004921259842519685, 'Female': 0.43996062992125984}]\n",
      "['Race', {'Indian': 0.04921259842519685, 'Coloured': 0.025590551181102362, 'White': 0.06496062992125984, 'Black': 0.5029527559055118, 'Asian': 0.001968503937007874}]\n"
     ]
    }
   ],
   "source": [
    "sub_groups_data = []\n",
    "for col in demographics_matrix.columns:\n",
    "    sub_group_name = col\n",
    "    sub_group_data = dict()\n",
    "    total_censored = len(censored[\"Scores\"] > 0)\n",
    "    sum = 0\n",
    "    for value in demographics_matrix[col].unique():\n",
    "        subgroup_censored_count = len(\n",
    "            demographics_matrix[\n",
    "                (demographics_matrix[col] == value) & (censored[\"Scores\"] > 0)\n",
    "            ]\n",
    "        )\n",
    "        sub_group_data[value] = subgroup_censored_count / total_censored\n",
    "\n",
    "    sub_groups_data.append([sub_group_name, sub_group_data])\n",
    "\n",
    "for row in sub_groups_data:\n",
    "    print(row)"
   ]
  },
  {
   "cell_type": "code",
   "execution_count": null,
   "metadata": {},
   "outputs": [],
   "source": []
  }
 ],
 "metadata": {
  "kernelspec": {
   "display_name": ".venv",
   "language": "python",
   "name": "python3"
  },
  "language_info": {
   "codemirror_mode": {
    "name": "ipython",
    "version": 3
   },
   "file_extension": ".py",
   "mimetype": "text/x-python",
   "name": "python",
   "nbconvert_exporter": "python",
   "pygments_lexer": "ipython3",
   "version": "3.10.12"
  }
 },
 "nbformat": 4,
 "nbformat_minor": 2
}
