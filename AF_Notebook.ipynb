{
 "cells": [
  {
   "cell_type": "code",
   "execution_count": 1,
   "metadata": {},
   "outputs": [],
   "source": [
    "import pandas as pd\n",
    "import numpy as np\n",
    "import matplotlib.pyplot as plt\n",
    "from typing import List\n",
    "%matplotlib inline"
   ]
  },
  {
   "cell_type": "code",
   "execution_count": 2,
   "metadata": {},
   "outputs": [],
   "source": [
    "# step 1 - read in the files\n",
    "dimensions_matrix = pd.read_excel('./test_data/Dimensions_Matrix.xlsx')\n",
    "cutoff_matrix = pd.read_excel('./test_data/cutoff_data.xlsx')\n",
    "weigths_matrix = pd.read_excel('./test_data/Weights.xlsx')"
   ]
  },
  {
   "cell_type": "code",
   "execution_count": 21,
   "metadata": {},
   "outputs": [],
   "source": [
    "def get_deprivation_matrix(dimensions_matrix: pd.DataFrame, cutoff_matrix: pd.DataFrame) -> pd.DataFrame:\n",
    "    \"\"\"\n",
    "    Calculate the deprivation matrix (g0) based on dimensions and cutoff values.\n",
    "\n",
    "    Args:\n",
    "        dimensions_matrix (pd.DataFrame): DataFrame containing dimensions data.\n",
    "        cutoff_matrix (pd.DataFrame): DataFrame containing cutoff values.\n",
    "\n",
    "    Returns:\n",
    "        pd.DataFrame: Deprivation matrix (g0).\n",
    "    \"\"\"\n",
    "    # Get column names for the dataframes\n",
    "    dimensions_column_names: List[str] = dimensions_matrix.columns\n",
    "\n",
    "    # Create a copy of the dimensions matrix as the deprivation matrix\n",
    "    deprivation_matrix: pd.DataFrame = dimensions_matrix.copy()\n",
    "\n",
    "    # Generate values for the deprivation matrix based on dimensions and cutoff values\n",
    "    for index, col_name in enumerate(dimensions_column_names):\n",
    "        cutoff_value = cutoff_matrix.at[index, 'Cutoff']\n",
    "        deprivation_matrix[col_name] = deprivation_matrix[col_name].apply(lambda value: 1 if value == cutoff_value else 0)\n",
    "\n",
    "    return deprivation_matrix"
   ]
  },
  {
   "cell_type": "code",
   "execution_count": 22,
   "metadata": {},
   "outputs": [],
   "source": [
    "def calculate_weighted_deprivation_matrix(deprivation_matrix: pd.DataFrame, weights_matrix: pd.DataFrame) -> pd.DataFrame:\n",
    "    \"\"\"\n",
    "    Calculate the weighted deprivation matrix based on the deprivation matrix and weights.\n",
    "\n",
    "    Args:\n",
    "        deprivation_matrix (pd.DataFrame): Deprivation matrix (g0).\n",
    "        weights_matrix (pd.DataFrame): DataFrame containing weights.\n",
    "\n",
    "    Returns:\n",
    "        pd.DataFrame: Weighted deprivation matrix.\n",
    "    \"\"\"\n",
    "    # Iterate through columns of the deprivation matrix\n",
    "    for index, col_name in enumerate(deprivation_matrix.columns):\n",
    "        # Get the weight corresponding to the column\n",
    "        weight = weights_matrix.at[index, 'Weight']\n",
    "        \n",
    "        # Multiply the values in the column by the weight\n",
    "        deprivation_matrix[col_name] = deprivation_matrix[col_name] * weight\n",
    "    \n",
    "    return deprivation_matrix"
   ]
  },
  {
   "cell_type": "code",
   "execution_count": 23,
   "metadata": {},
   "outputs": [],
   "source": [
    "\n",
    "def calculate_deprevation_scores(weighted_deprivation_matrix: pd.DataFrame) -> pd.DataFrame:\n",
    "    \"\"\"\n",
    "    Calculate deprivation scores based on the weighted deprivation matrix.\n",
    "\n",
    "    Args:\n",
    "        weighted_deprivation_matrix (pd.DataFrame): DataFrame containing weighted deprivation values.\n",
    "\n",
    "    Returns:\n",
    "        pd.DataFrame: DataFrame containing deprivation scores.\n",
    "    \"\"\"\n",
    "    # Determine the number of rows in the weighted deprivation matrix\n",
    "    number_of_rows = len(weighted_deprivation_matrix)\n",
    "\n",
    "    # Initialize a DataFrame to store the deprivation scores\n",
    "    data = {'Scores': [0] * number_of_rows}\n",
    "    deprevation_scores = pd.DataFrame(data)\n",
    "\n",
    "    # Calculate the deprivation score for each row in the weighted deprivation matrix\n",
    "    for index in range(number_of_rows):\n",
    "        deprevation_score = weighted_deprivation_matrix.iloc[index].sum()\n",
    "        \n",
    "        # Update the 'Scores' column in the deprivation scores DataFrame\n",
    "        deprevation_scores.at[index, 'Scores'] = deprevation_score\n",
    "\n",
    "    return deprevation_scores"
   ]
  },
  {
   "cell_type": "code",
   "execution_count": 24,
   "metadata": {},
   "outputs": [
    {
     "data": {
      "text/html": [
       "<div>\n",
       "<style scoped>\n",
       "    .dataframe tbody tr th:only-of-type {\n",
       "        vertical-align: middle;\n",
       "    }\n",
       "\n",
       "    .dataframe tbody tr th {\n",
       "        vertical-align: top;\n",
       "    }\n",
       "\n",
       "    .dataframe thead th {\n",
       "        text-align: right;\n",
       "    }\n",
       "</style>\n",
       "<table border=\"1\" class=\"dataframe\">\n",
       "  <thead>\n",
       "    <tr style=\"text-align: right;\">\n",
       "      <th></th>\n",
       "      <th>Scores</th>\n",
       "    </tr>\n",
       "  </thead>\n",
       "  <tbody>\n",
       "    <tr>\n",
       "      <th>0</th>\n",
       "      <td>1</td>\n",
       "    </tr>\n",
       "    <tr>\n",
       "      <th>1</th>\n",
       "      <td>3</td>\n",
       "    </tr>\n",
       "    <tr>\n",
       "      <th>2</th>\n",
       "      <td>0</td>\n",
       "    </tr>\n",
       "    <tr>\n",
       "      <th>3</th>\n",
       "      <td>2</td>\n",
       "    </tr>\n",
       "    <tr>\n",
       "      <th>4</th>\n",
       "      <td>2</td>\n",
       "    </tr>\n",
       "  </tbody>\n",
       "</table>\n",
       "</div>"
      ],
      "text/plain": [
       "   Scores\n",
       "0       1\n",
       "1       3\n",
       "2       0\n",
       "3       2\n",
       "4       2"
      ]
     },
     "execution_count": 24,
     "metadata": {},
     "output_type": "execute_result"
    }
   ],
   "source": [
    "df = get_deprivation_matrix(dimensions_matrix, cutoff_matrix)\n",
    "df = calculate_weighted_deprivation_matrix(df, weigths_matrix)\n",
    "scores = calculate_deprevation_scores(df)\n"
   ]
  },
  {
   "cell_type": "code",
   "execution_count": 32,
   "metadata": {},
   "outputs": [],
   "source": [
    "\n",
    "def get_censored_vector(deprevation_scores_vector: pd.DataFrame, cutoff_score: int) -> pd.DataFrame:\n",
    "    \"\"\"\n",
    "    Generate a censored vector based on deprivation scores and a cutoff score.\n",
    "\n",
    "    Args:\n",
    "        deprevation_scores_vector (pd.DataFrame): DataFrame containing deprivation scores.\n",
    "        cutoff_score (int): Cutoff score used to censor deprivation scores.\n",
    "\n",
    "    Returns:\n",
    "        pd.DataFrame: Censored vector of deprivation scores.\n",
    "    \"\"\"\n",
    "    # Create a copy of the deprivation scores vector\n",
    "    censored_vector = deprevation_scores_vector.copy()\n",
    "\n",
    "    # Iterate through the rows of the vector and apply censoring\n",
    "    for index in range(len(censored_vector)):\n",
    "        deprivation_score = censored_vector.at[index, 'Scores']\n",
    "\n",
    "        # Apply censoring: If the deprivation score is below the cutoff, set it to 0\n",
    "        censored_vector.at[index, 'Scores'] = deprivation_score if deprivation_score >= cutoff_score else 0\n",
    "\n",
    "    return censored_vector"
   ]
  },
  {
   "cell_type": "code",
   "execution_count": 33,
   "metadata": {},
   "outputs": [
    {
     "data": {
      "text/html": [
       "<div>\n",
       "<style scoped>\n",
       "    .dataframe tbody tr th:only-of-type {\n",
       "        vertical-align: middle;\n",
       "    }\n",
       "\n",
       "    .dataframe tbody tr th {\n",
       "        vertical-align: top;\n",
       "    }\n",
       "\n",
       "    .dataframe thead th {\n",
       "        text-align: right;\n",
       "    }\n",
       "</style>\n",
       "<table border=\"1\" class=\"dataframe\">\n",
       "  <thead>\n",
       "    <tr style=\"text-align: right;\">\n",
       "      <th></th>\n",
       "      <th>Scores</th>\n",
       "    </tr>\n",
       "  </thead>\n",
       "  <tbody>\n",
       "    <tr>\n",
       "      <th>0</th>\n",
       "      <td>0</td>\n",
       "    </tr>\n",
       "    <tr>\n",
       "      <th>1</th>\n",
       "      <td>3</td>\n",
       "    </tr>\n",
       "  </tbody>\n",
       "</table>\n",
       "</div>"
      ],
      "text/plain": [
       "   Scores\n",
       "0       0\n",
       "1       3"
      ]
     },
     "execution_count": 33,
     "metadata": {},
     "output_type": "execute_result"
    }
   ],
   "source": [
    "df = get_deprivation_matrix(dimensions_matrix, cutoff_matrix)\n",
    "df = calculate_weighted_deprivation_matrix(df, weigths_matrix)\n",
    "scores = calculate_deprevation_scores(df)\n",
    "censored = get_Censored_vector(scores,3)\n",
    "censored.head(2)"
   ]
  },
  {
   "cell_type": "code",
   "execution_count": null,
   "metadata": {},
   "outputs": [],
   "source": []
  }
 ],
 "metadata": {
  "kernelspec": {
   "display_name": ".venv",
   "language": "python",
   "name": "python3"
  },
  "language_info": {
   "codemirror_mode": {
    "name": "ipython",
    "version": 3
   },
   "file_extension": ".py",
   "mimetype": "text/x-python",
   "name": "python",
   "nbconvert_exporter": "python",
   "pygments_lexer": "ipython3",
   "version": "3.10.12"
  }
 },
 "nbformat": 4,
 "nbformat_minor": 2
}
