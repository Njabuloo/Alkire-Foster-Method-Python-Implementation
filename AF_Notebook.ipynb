{
 "cells": [
  {
   "cell_type": "code",
   "execution_count": 1,
   "metadata": {},
   "outputs": [],
   "source": [
    "import pandas as pd\n",
    "import numpy as np\n",
    "import matplotlib.pyplot as plt\n",
    "from typing import List\n",
    "%matplotlib inline"
   ]
  },
  {
   "cell_type": "code",
   "execution_count": 2,
   "metadata": {},
   "outputs": [],
   "source": [
    "# step 1 - read in the files\n",
    "dimensions_matrix = pd.read_excel('./test_data/Dimensions_Matrix.xlsx')\n",
    "cutoff_matrix = pd.read_excel('./test_data/cutoff_data.xlsx')\n",
    "weigths_matrix = pd.read_excel('./test_data/Weights.xlsx')"
   ]
  },
  {
   "cell_type": "code",
   "execution_count": 5,
   "metadata": {},
   "outputs": [],
   "source": [
    "def get_deprivation_matrix(dimensions_matrix: pd.DataFrame, cutoff_matrix: pd.DataFrame) -> pd.DataFrame:\n",
    "    \"\"\"\n",
    "    Calculate the deprivation matrix (g0) based on dimensions and cutoff values.\n",
    "\n",
    "    Args:\n",
    "        dimensions_matrix (pd.DataFrame): DataFrame containing dimensions data.\n",
    "        cutoff_matrix (pd.DataFrame): DataFrame containing cutoff values.\n",
    "\n",
    "    Returns:\n",
    "        pd.DataFrame: Deprivation matrix (g0).\n",
    "    \"\"\"\n",
    "    # Get column names for the dataframes\n",
    "    dimensions_column_names: List[str] = dimensions_matrix.columns\n",
    "\n",
    "    # Create a copy of the dimensions matrix as the deprivation matrix\n",
    "    deprivation_matrix: pd.DataFrame = dimensions_matrix.copy()\n",
    "\n",
    "    # Generate values for the deprivation matrix based on dimensions and cutoff values\n",
    "    for index, col_name in enumerate(dimensions_column_names):\n",
    "        cutoff_value = cutoff_matrix.iloc[index]['Cutoff']\n",
    "        deprivation_matrix[col_name] = deprivation_matrix[col_name].apply(lambda value: 1 if value == cutoff_value else 0)\n",
    "\n",
    "    return deprivation_matrix"
   ]
  },
  {
   "cell_type": "code",
   "execution_count": 9,
   "metadata": {},
   "outputs": [],
   "source": [
    "def calculate_weighted_deprivation_matrix(deprivation_matrix: pd.DataFrame, weights_matrix: pd.DataFrame) -> pd.DataFrame:\n",
    "    \"\"\"\n",
    "    Calculate the weighted deprivation matrix based on the deprivation matrix and weights.\n",
    "\n",
    "    Args:\n",
    "        deprivation_matrix (pd.DataFrame): Deprivation matrix (g0).\n",
    "        weights_matrix (pd.DataFrame): DataFrame containing weights.\n",
    "\n",
    "    Returns:\n",
    "        pd.DataFrame: Weighted deprivation matrix.\n",
    "    \"\"\"\n",
    "    # Iterate through columns of the deprivation matrix\n",
    "    for col_name in deprivation_matrix.columns:\n",
    "        # Get the weight corresponding to the column\n",
    "        weight = weights_matrix.loc[weights_matrix.index == col_name, 'Weight'].values[0]\n",
    "        \n",
    "        # Multiply the values in the column by the weight\n",
    "        deprivation_matrix[col_name] = deprivation_matrix[col_name] * weight\n",
    "    \n",
    "    return deprivation_matrix"
   ]
  },
  {
   "cell_type": "code",
   "execution_count": 11,
   "metadata": {},
   "outputs": [
    {
     "ename": "SyntaxError",
     "evalue": "invalid syntax (1078661237.py, line 2)",
     "output_type": "error",
     "traceback": [
      "\u001b[0;36m  Cell \u001b[0;32mIn[11], line 2\u001b[0;36m\u001b[0m\n\u001b[0;31m    number_of_rows =\u001b[0m\n\u001b[0m                     ^\u001b[0m\n\u001b[0;31mSyntaxError\u001b[0m\u001b[0;31m:\u001b[0m invalid syntax\n"
     ]
    }
   ],
   "source": [
    "def calculate_deprevation_scores(weighted_deprivation_matrix : pd.DataFrame) -> pd.DataFrame:\n",
    "    number_of_rows = len(weighted_deprivation_matrix.columns)\n",
    "    data = { 'Scores' : [0] * number_of_rows}\n",
    "    deprevation_scores = pd.DataFrame(data)\n",
    "    for index in range(number_of_rows):\n",
    "        deprevation_score = weighted_deprivation_matrix.iloc[index].sum()\n",
    "        deprevation_scores.iloc[index, 'Scores'] = deprevation_score\n",
    "    return deprevation_scores\n",
    "        "
   ]
  },
  {
   "cell_type": "code",
   "execution_count": null,
   "metadata": {},
   "outputs": [],
   "source": []
  }
 ],
 "metadata": {
  "kernelspec": {
   "display_name": ".venv",
   "language": "python",
   "name": "python3"
  },
  "language_info": {
   "codemirror_mode": {
    "name": "ipython",
    "version": 3
   },
   "file_extension": ".py",
   "mimetype": "text/x-python",
   "name": "python",
   "nbconvert_exporter": "python",
   "pygments_lexer": "ipython3",
   "version": "3.10.12"
  }
 },
 "nbformat": 4,
 "nbformat_minor": 2
}
