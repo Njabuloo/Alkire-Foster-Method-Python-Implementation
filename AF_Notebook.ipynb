{
 "cells": [
  {
   "cell_type": "code",
   "execution_count": 15,
   "metadata": {},
   "outputs": [],
   "source": [
    "import pandas as pd\n",
    "import numpy as np\n",
    "import matplotlib.pyplot as plt\n",
    "from typing import List\n",
    "%matplotlib inline"
   ]
  },
  {
   "cell_type": "code",
   "execution_count": 2,
   "metadata": {},
   "outputs": [],
   "source": [
    "# step 1 - read in the files\n",
    "dimensions_matrix = pd.read_excel('./test_data/Dimensions_Matrix.xlsx')\n",
    "cutoff_matrix = pd.read_excel('./test_data/cutoff_data.xlsx')\n",
    "weigths_matrix = pd.read_excel('./test_data/Weights.xlsx')"
   ]
  },
  {
   "cell_type": "code",
   "execution_count": 8,
   "metadata": {},
   "outputs": [
    {
     "data": {
      "text/html": [
       "<div>\n",
       "<style scoped>\n",
       "    .dataframe tbody tr th:only-of-type {\n",
       "        vertical-align: middle;\n",
       "    }\n",
       "\n",
       "    .dataframe tbody tr th {\n",
       "        vertical-align: top;\n",
       "    }\n",
       "\n",
       "    .dataframe thead th {\n",
       "        text-align: right;\n",
       "    }\n",
       "</style>\n",
       "<table border=\"1\" class=\"dataframe\">\n",
       "  <thead>\n",
       "    <tr style=\"text-align: right;\">\n",
       "      <th></th>\n",
       "      <th>Reliant on mobile data deprivation</th>\n",
       "      <th>Computer deprived</th>\n",
       "      <th>Handheld device deprived</th>\n",
       "      <th>Utility electricity deprived</th>\n",
       "      <th>Alternative electricity deprived</th>\n",
       "      <th>Electrical lighting deprived</th>\n",
       "      <th>Formal dwelling deprived</th>\n",
       "      <th>Workspace deprived</th>\n",
       "      <th>Earphones deprived</th>\n",
       "    </tr>\n",
       "  </thead>\n",
       "  <tbody>\n",
       "    <tr>\n",
       "      <th>0</th>\n",
       "      <td>False</td>\n",
       "      <td>False</td>\n",
       "      <td>False</td>\n",
       "      <td>False</td>\n",
       "      <td>True</td>\n",
       "      <td>False</td>\n",
       "      <td>False</td>\n",
       "      <td>False</td>\n",
       "      <td>False</td>\n",
       "    </tr>\n",
       "  </tbody>\n",
       "</table>\n",
       "</div>"
      ],
      "text/plain": [
       "   Reliant on mobile data deprivation  Computer deprived  \\\n",
       "0                               False              False   \n",
       "\n",
       "   Handheld device deprived  Utility electricity deprived  \\\n",
       "0                     False                         False   \n",
       "\n",
       "   Alternative electricity deprived  Electrical lighting deprived  \\\n",
       "0                              True                         False   \n",
       "\n",
       "   Formal dwelling deprived  Workspace deprived  Earphones deprived  \n",
       "0                     False               False               False  "
      ]
     },
     "execution_count": 8,
     "metadata": {},
     "output_type": "execute_result"
    }
   ],
   "source": [
    "dimensions_matrix.head(1)"
   ]
  },
  {
   "cell_type": "code",
   "execution_count": 22,
   "metadata": {},
   "outputs": [
    {
     "data": {
      "text/plain": [
       "True"
      ]
     },
     "execution_count": 22,
     "metadata": {},
     "output_type": "execute_result"
    }
   ],
   "source": [
    "cutoff_matrix.iloc[1]['Cutoff']"
   ]
  },
  {
   "cell_type": "code",
   "execution_count": 23,
   "metadata": {},
   "outputs": [
    {
     "data": {
      "text/html": [
       "<div>\n",
       "<style scoped>\n",
       "    .dataframe tbody tr th:only-of-type {\n",
       "        vertical-align: middle;\n",
       "    }\n",
       "\n",
       "    .dataframe tbody tr th {\n",
       "        vertical-align: top;\n",
       "    }\n",
       "\n",
       "    .dataframe thead th {\n",
       "        text-align: right;\n",
       "    }\n",
       "</style>\n",
       "<table border=\"1\" class=\"dataframe\">\n",
       "  <thead>\n",
       "    <tr style=\"text-align: right;\">\n",
       "      <th></th>\n",
       "      <th>Reliant on mobile data deprivation</th>\n",
       "      <th>Computer deprived</th>\n",
       "      <th>Handheld device deprived</th>\n",
       "      <th>Utility electricity deprived</th>\n",
       "      <th>Alternative electricity deprived</th>\n",
       "      <th>Electrical lighting deprived</th>\n",
       "      <th>Formal dwelling deprived</th>\n",
       "      <th>Workspace deprived</th>\n",
       "      <th>Earphones deprived</th>\n",
       "    </tr>\n",
       "  </thead>\n",
       "  <tbody>\n",
       "    <tr>\n",
       "      <th>0</th>\n",
       "      <td>False</td>\n",
       "      <td>False</td>\n",
       "      <td>False</td>\n",
       "      <td>False</td>\n",
       "      <td>True</td>\n",
       "      <td>False</td>\n",
       "      <td>False</td>\n",
       "      <td>False</td>\n",
       "      <td>False</td>\n",
       "    </tr>\n",
       "  </tbody>\n",
       "</table>\n",
       "</div>"
      ],
      "text/plain": [
       "   Reliant on mobile data deprivation  Computer deprived  \\\n",
       "0                               False              False   \n",
       "\n",
       "   Handheld device deprived  Utility electricity deprived  \\\n",
       "0                     False                         False   \n",
       "\n",
       "   Alternative electricity deprived  Electrical lighting deprived  \\\n",
       "0                              True                         False   \n",
       "\n",
       "   Formal dwelling deprived  Workspace deprived  Earphones deprived  \n",
       "0                     False               False               False  "
      ]
     },
     "execution_count": 23,
     "metadata": {},
     "output_type": "execute_result"
    }
   ],
   "source": [
    "# calculate the deprivation matrix - g0\n",
    "def get_deprivation_matrix(dimensions_matrix : pd.DataFrame, cutoff_matrix : pd.DataFrame) -> pd.DataFrame:\n",
    "    # gets column names for the dataframes\n",
    "    dimensions_column_names : List[str] = dimensions_matrix.columns \n",
    "    cutoff_column_names : List[str] = cutoff_matrix.columns \n",
    "    # create the deprivation matrix from the dimensions matrix\n",
    "    deprivation_matrix : pd.DataFrame = dimensions_matrix.copy()\n",
    "    # generate the values for the deprivation matrix based on the dimension and cutoff values\n",
    "    for index, col_name  in enumerate(dimensions_column_names):\n",
    "        deprivation_matrix[col_name] = deprivation_matrix[col_name].apply(lambda value: 1 if value == cutoff_matrix.iloc[index]['Cutoff'] else 0 )\n",
    "    return deprivation_matrix\n",
    "\n",
    "get_deprivation_matrix(dimensions_matrix, cutoff_matrix).head(1)"
   ]
  },
  {
   "cell_type": "code",
   "execution_count": null,
   "metadata": {},
   "outputs": [],
   "source": []
  }
 ],
 "metadata": {
  "kernelspec": {
   "display_name": ".venv",
   "language": "python",
   "name": "python3"
  },
  "language_info": {
   "codemirror_mode": {
    "name": "ipython",
    "version": 3
   },
   "file_extension": ".py",
   "mimetype": "text/x-python",
   "name": "python",
   "nbconvert_exporter": "python",
   "pygments_lexer": "ipython3",
   "version": "3.10.12"
  }
 },
 "nbformat": 4,
 "nbformat_minor": 2
}
