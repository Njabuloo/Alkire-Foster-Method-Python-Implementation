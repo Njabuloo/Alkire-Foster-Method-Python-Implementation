{
 "cells": [
  {
   "cell_type": "code",
   "execution_count": 1,
   "metadata": {},
   "outputs": [],
   "source": [
    "import pandas as pd\n",
    "import numpy as np\n",
    "import matplotlib.pyplot as plt\n",
    "from typing import List\n",
    "%matplotlib inline"
   ]
  },
  {
   "cell_type": "code",
   "execution_count": 2,
   "metadata": {},
   "outputs": [],
   "source": [
    "# step 1 - read in the files\n",
    "dimensions_matrix = pd.read_excel('./test_data/Dimensions_Matrix.xlsx')\n",
    "cutoff_matrix = pd.read_excel('./test_data/cutoff_data.xlsx')\n",
    "weigths_matrix = pd.read_excel('./test_data/Weights.xlsx')"
   ]
  },
  {
   "cell_type": "code",
   "execution_count": 5,
   "metadata": {},
   "outputs": [],
   "source": [
    "def get_deprivation_matrix(dimensions_matrix: pd.DataFrame, cutoff_matrix: pd.DataFrame) -> pd.DataFrame:\n",
    "    \"\"\"\n",
    "    Calculate the deprivation matrix (g0) based on dimensions and cutoff values.\n",
    "\n",
    "    Args:\n",
    "        dimensions_matrix (pd.DataFrame): DataFrame containing dimensions data.\n",
    "        cutoff_matrix (pd.DataFrame): DataFrame containing cutoff values.\n",
    "\n",
    "    Returns:\n",
    "        pd.DataFrame: Deprivation matrix (g0).\n",
    "    \"\"\"\n",
    "    # Get column names for the dataframes\n",
    "    dimensions_column_names: List[str] = dimensions_matrix.columns\n",
    "    cutoff_column_names: List[str] = cutoff_matrix.columns\n",
    "\n",
    "    # Create a copy of the dimensions matrix as the deprivation matrix\n",
    "    deprivation_matrix: pd.DataFrame = dimensions_matrix.copy()\n",
    "\n",
    "    # Generate values for the deprivation matrix based on dimensions and cutoff values\n",
    "    for index, col_name in enumerate(dimensions_column_names):\n",
    "        cutoff_value = cutoff_matrix.iloc[index]['Cutoff']\n",
    "        deprivation_matrix[col_name] = deprivation_matrix[col_name].apply(lambda value: 1 if value == cutoff_value else 0)\n",
    "\n",
    "    return deprivation_matrix"
   ]
  },
  {
   "cell_type": "code",
   "execution_count": null,
   "metadata": {},
   "outputs": [],
   "source": [
    "def calculate_weighted_deprivation_matrix(deprivation_matrix : pd.DataFrame, weigths_matrix : pd.DataFrame) -> pd.DataFrame:\n",
    "    for index, col_name in enumerate(deprivation_matrix.cols):\n",
    "        weight = weigths_matrix.iloc[index]['Weight']\n",
    "        deprivation_matrix[col_name] = deprivation_matrix[col_name].apply(lambda value: value * weight)\n",
    "    return deprivation_matrix"
   ]
  },
  {
   "cell_type": "code",
   "execution_count": 6,
   "metadata": {},
   "outputs": [
    {
     "data": {
      "text/html": [
       "<div>\n",
       "<style scoped>\n",
       "    .dataframe tbody tr th:only-of-type {\n",
       "        vertical-align: middle;\n",
       "    }\n",
       "\n",
       "    .dataframe tbody tr th {\n",
       "        vertical-align: top;\n",
       "    }\n",
       "\n",
       "    .dataframe thead th {\n",
       "        text-align: right;\n",
       "    }\n",
       "</style>\n",
       "<table border=\"1\" class=\"dataframe\">\n",
       "  <thead>\n",
       "    <tr style=\"text-align: right;\">\n",
       "      <th></th>\n",
       "      <th>wj</th>\n",
       "      <th>Indicator</th>\n",
       "      <th>Weight</th>\n",
       "      <th>Weight Vector</th>\n",
       "    </tr>\n",
       "  </thead>\n",
       "  <tbody>\n",
       "    <tr>\n",
       "      <th>0</th>\n",
       "      <td>w1</td>\n",
       "      <td>Mobile Data</td>\n",
       "      <td>1</td>\n",
       "      <td>0.111111</td>\n",
       "    </tr>\n",
       "    <tr>\n",
       "      <th>1</th>\n",
       "      <td>w2</td>\n",
       "      <td>Computer</td>\n",
       "      <td>1</td>\n",
       "      <td>0.111111</td>\n",
       "    </tr>\n",
       "  </tbody>\n",
       "</table>\n",
       "</div>"
      ],
      "text/plain": [
       "   wj    Indicator  Weight  Weight Vector\n",
       "0  w1  Mobile Data       1       0.111111\n",
       "1  w2     Computer       1       0.111111"
      ]
     },
     "execution_count": 6,
     "metadata": {},
     "output_type": "execute_result"
    }
   ],
   "source": [
    "weigths_matrix.head(2)"
   ]
  },
  {
   "cell_type": "code",
   "execution_count": 8,
   "metadata": {},
   "outputs": [
    {
     "data": {
      "text/plain": [
       "1"
      ]
     },
     "execution_count": 8,
     "metadata": {},
     "output_type": "execute_result"
    }
   ],
   "source": [
    "weigths_matrix.iloc[2]['Weight']"
   ]
  },
  {
   "cell_type": "code",
   "execution_count": null,
   "metadata": {},
   "outputs": [],
   "source": []
  }
 ],
 "metadata": {
  "kernelspec": {
   "display_name": ".venv",
   "language": "python",
   "name": "python3"
  },
  "language_info": {
   "codemirror_mode": {
    "name": "ipython",
    "version": 3
   },
   "file_extension": ".py",
   "mimetype": "text/x-python",
   "name": "python",
   "nbconvert_exporter": "python",
   "pygments_lexer": "ipython3",
   "version": "3.10.12"
  }
 },
 "nbformat": 4,
 "nbformat_minor": 2
}
